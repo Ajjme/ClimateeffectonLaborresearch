{
 "cells": [
  {
   "cell_type": "code",
   "execution_count": 1,
   "metadata": {},
   "outputs": [],
   "source": [
    "import pandas as pd\n",
    "import numpy as np"
   ]
  },
  {
   "cell_type": "code",
   "execution_count": 2,
   "metadata": {},
   "outputs": [
    {
     "name": "stdout",
     "output_type": "stream",
     "text": [
      "                                   Title  \\\n",
      "0                       Chief Executives   \n",
      "1                       Chief Executives   \n",
      "2                       Chief Executives   \n",
      "3                       Chief Executives   \n",
      "4                       Chief Executives   \n",
      "...                                  ...   \n",
      "55171  Tank Car, Truck, and Ship Loaders   \n",
      "55172  Tank Car, Truck, and Ship Loaders   \n",
      "55173  Tank Car, Truck, and Ship Loaders   \n",
      "55174  Tank Car, Truck, and Ship Loaders   \n",
      "55175  Tank Car, Truck, and Ship Loaders   \n",
      "\n",
      "                                 Description       Score  \n",
      "0                            Public Speaking   40.635422  \n",
      "1                                  Telephone  100.000000  \n",
      "2                            Electronic Mail  100.000000  \n",
      "3                          Letters and Memos   71.807619  \n",
      "4                   Face-to-Face Discussions   99.208000  \n",
      "...                                      ...         ...  \n",
      "55171                   Level of Competition   38.377728  \n",
      "55172                          Time Pressure   78.269123  \n",
      "55173  Pace Determined by Speed of Equipment   49.036094  \n",
      "55174                         Work Schedules   49.036094  \n",
      "55175          Duration of Typical Work Week   49.036094  \n",
      "\n",
      "[55176 rows x 3 columns]\n"
     ]
    }
   ],
   "source": [
    "df1 = pd.read_excel('LaborScores2020.xlsx')\n",
    "print(df1)\n"
   ]
  },
  {
   "cell_type": "code",
   "execution_count": 3,
   "metadata": {},
   "outputs": [],
   "source": [
    "df1 = pd.DataFrame(df1, columns = ['Title', 'Description', 'Score'])"
   ]
  },
  {
   "cell_type": "markdown",
   "metadata": {},
   "source": [
    "## Function to select all jobs by a certain discription sorted by Score"
   ]
  },
  {
   "cell_type": "code",
   "execution_count": 4,
   "metadata": {},
   "outputs": [
    {
     "name": "stdout",
     "output_type": "stream",
     "text": [
      "                                                   Title  \\\n",
      "3320   Wholesale and Retail Buyers, Except Farm Products   \n",
      "16373         Judges, Magistrate Judges, and Magistrates   \n",
      "46469                          Butchers and Meat Cutters   \n",
      "23669                                   Ophthalmologists   \n",
      "5315                                     Credit Analysts   \n",
      "...                                                  ...   \n",
      "53252       Railroad Brake, Signal, and Switch Operators   \n",
      "40199  Operating Engineers and Other Construction Equ...   \n",
      "42194                Rotary Drill Operators, Oil and Gas   \n",
      "31478                          Tree Trimmers and Pruners   \n",
      "42137                     Derrick Operators, Oil and Gas   \n",
      "\n",
      "                               Description       Score  \n",
      "3320   Indoors, Environmentally Controlled  100.000000  \n",
      "16373  Indoors, Environmentally Controlled  100.000000  \n",
      "46469  Indoors, Environmentally Controlled  100.000000  \n",
      "23669  Indoors, Environmentally Controlled  100.000000  \n",
      "5315   Indoors, Environmentally Controlled  100.000000  \n",
      "...                                    ...         ...  \n",
      "53252  Indoors, Environmentally Controlled    1.096438  \n",
      "40199  Indoors, Environmentally Controlled    0.982599  \n",
      "42194  Indoors, Environmentally Controlled    0.643731  \n",
      "31478  Indoors, Environmentally Controlled    0.366681  \n",
      "42137  Indoors, Environmentally Controlled    0.191007  \n",
      "\n",
      "[968 rows x 3 columns]\n"
     ]
    },
    {
     "name": "stderr",
     "output_type": "stream",
     "text": [
      "C:\\Users\\ajj4p\\Documents\\anaconda3\\lib\\site-packages\\ipykernel_launcher.py:3: SettingWithCopyWarning: \n",
      "A value is trying to be set on a copy of a slice from a DataFrame\n",
      "\n",
      "See the caveats in the documentation: https://pandas.pydata.org/pandas-docs/stable/user_guide/indexing.html#returning-a-view-versus-a-copy\n",
      "  This is separate from the ipykernel package so we can avoid doing imports until\n"
     ]
    }
   ],
   "source": [
    "#selects particular discrription and lists all jobs with it\n",
    "climateslected = df1.loc[df1['Description'] == 'Indoors, Environmentally Controlled'] \n",
    "climateslected.sort_values(by=['Score'], ascending = False, na_position='first', inplace=True)\n",
    "\n",
    "print (climateslected)\n"
   ]
  },
  {
   "cell_type": "markdown",
   "metadata": {},
   "source": [
    "# Function to find certain job"
   ]
  },
  {
   "cell_type": "code",
   "execution_count": 5,
   "metadata": {},
   "outputs": [
    {
     "name": "stdout",
     "output_type": "stream",
     "text": [
      "               Title                                        Description  \\\n",
      "0   Chief Executives                                    Public Speaking   \n",
      "1   Chief Executives                                          Telephone   \n",
      "2   Chief Executives                                    Electronic Mail   \n",
      "3   Chief Executives                                  Letters and Memos   \n",
      "4   Chief Executives                           Face-to-Face Discussions   \n",
      "5   Chief Executives                                Contact With Others   \n",
      "6   Chief Executives                       Work With Work Group or Team   \n",
      "7   Chief Executives                       Deal With External Customers   \n",
      "8   Chief Executives                          Coordinate or Lead Others   \n",
      "9   Chief Executives          Responsible for Others' Health and Safety   \n",
      "10  Chief Executives            Responsibility for Outcomes and Results   \n",
      "11  Chief Executives                   Frequency of Conflict Situations   \n",
      "12  Chief Executives               Deal With Unpleasant or Angry People   \n",
      "13  Chief Executives             Deal With Physically Aggressive People   \n",
      "14  Chief Executives                Indoors, Environmentally Controlled   \n",
      "15  Chief Executives            Indoors, Not Environmentally Controlled   \n",
      "16  Chief Executives                       Outdoors, Exposed to Weather   \n",
      "17  Chief Executives                              Outdoors, Under Cover   \n",
      "18  Chief Executives                    In an Open Vehicle or Equipment   \n",
      "19  Chief Executives                In an Enclosed Vehicle or Equipment   \n",
      "20  Chief Executives                                 Physical Proximity   \n",
      "21  Chief Executives  Sounds, Noise Levels Are Distracting or Uncomf...   \n",
      "22  Chief Executives                      Very Hot or Cold Temperatures   \n",
      "23  Chief Executives            Extremely Bright or Inadequate Lighting   \n",
      "24  Chief Executives                            Exposed to Contaminants   \n",
      "25  Chief Executives              Cramped Work Space, Awkward Positions   \n",
      "26  Chief Executives                    Exposed to Whole Body Vibration   \n",
      "27  Chief Executives                               Exposed to Radiation   \n",
      "28  Chief Executives                   Exposed to Disease or Infections   \n",
      "29  Chief Executives                             Exposed to High Places   \n",
      "30  Chief Executives                    Exposed to Hazardous Conditions   \n",
      "31  Chief Executives                     Exposed to Hazardous Equipment   \n",
      "32  Chief Executives     Exposed to Minor Burns, Cuts, Bites, or Stings   \n",
      "33  Chief Executives                                 Spend Time Sitting   \n",
      "34  Chief Executives                                Spend Time Standing   \n",
      "35  Chief Executives   Spend Time Climbing Ladders, Scaffolds, or Poles   \n",
      "36  Chief Executives                     Spend Time Walking and Running   \n",
      "37  Chief Executives  Spend Time Kneeling, Crouching, Stooping, or C...   \n",
      "38  Chief Executives            Spend Time Keeping or Regaining Balance   \n",
      "39  Chief Executives  Spend Time Using Your Hands to Handle, Control...   \n",
      "40  Chief Executives            Spend Time Bending or Twisting the Body   \n",
      "41  Chief Executives               Spend Time Making Repetitive Motions   \n",
      "42  Chief Executives  Wear Common Protective or Safety Equipment suc...   \n",
      "43  Chief Executives  Wear Specialized Protective or Safety Equipmen...   \n",
      "44  Chief Executives                               Consequence of Error   \n",
      "45  Chief Executives  Impact of Decisions on Co-workers or Company R...   \n",
      "46  Chief Executives                       Frequency of Decision Making   \n",
      "47  Chief Executives                          Freedom to Make Decisions   \n",
      "48  Chief Executives                               Degree of Automation   \n",
      "49  Chief Executives              Importance of Being Exact or Accurate   \n",
      "50  Chief Executives                 Importance of Repeating Same Tasks   \n",
      "51  Chief Executives                Structured versus Unstructured Work   \n",
      "52  Chief Executives                               Level of Competition   \n",
      "53  Chief Executives                                      Time Pressure   \n",
      "54  Chief Executives              Pace Determined by Speed of Equipment   \n",
      "55  Chief Executives                                     Work Schedules   \n",
      "56  Chief Executives                      Duration of Typical Work Week   \n",
      "\n",
      "         Score  \n",
      "0    40.635422  \n",
      "1   100.000000  \n",
      "2   100.000000  \n",
      "3    71.807619  \n",
      "4    99.208000  \n",
      "5    91.719810  \n",
      "6    89.508000  \n",
      "7    71.705143  \n",
      "8    87.106952  \n",
      "9    55.323665  \n",
      "10   79.735958  \n",
      "11   62.762835  \n",
      "12   42.943155  \n",
      "13    7.481300  \n",
      "14   96.568857  \n",
      "15   20.255630  \n",
      "16   18.805116  \n",
      "17    8.251819  \n",
      "18    9.951274  \n",
      "19   36.658243  \n",
      "20   26.456725  \n",
      "21   33.371815  \n",
      "22   19.875460  \n",
      "23   15.146490  \n",
      "24   19.566442  \n",
      "25    4.819422  \n",
      "26   13.664000  \n",
      "27    0.251464  \n",
      "28    6.490927  \n",
      "29    8.487858  \n",
      "30   10.115990  \n",
      "31   20.981079  \n",
      "32    6.397366  \n",
      "33   50.086286  \n",
      "34    7.146519  \n",
      "35    1.063244  \n",
      "36    5.585291  \n",
      "37    2.246159  \n",
      "38    1.858450  \n",
      "39    9.957147  \n",
      "40    2.691877  \n",
      "41   14.391854  \n",
      "42   16.042269  \n",
      "43    6.222549  \n",
      "44   50.658108  \n",
      "45   94.584000  \n",
      "46   96.009810  \n",
      "47   96.475810  \n",
      "48   24.847245  \n",
      "49   64.548667  \n",
      "50   40.600240  \n",
      "51   99.216000  \n",
      "52   66.801333  \n",
      "53   65.948952  \n",
      "54    8.335746  \n",
      "55    8.335746  \n",
      "56    8.335746  \n"
     ]
    }
   ],
   "source": [
    "Jobslected = df1.loc[df1['Title'] == 'Chief Executives']\n",
    "print(Jobslected)"
   ]
  },
  {
   "cell_type": "markdown",
   "metadata": {},
   "source": [
    "# All Descriptions\n",
    "Public Speaking\n",
    "Telephone\n",
    "Electronic Mail\n",
    "Letters and Memos\n",
    "Face-to-Face Discussions\n",
    "Contact With Others\n",
    "Work With Work Group or Team\n",
    "Deal With External Customers\n",
    "Coordinate or Lead Others\n",
    "Responsible for Others' Health and Safety\n",
    "Responsibility for Outcomes and Results\n",
    "Frequency of Conflict Situations\n",
    "Deal With Unpleasant or Angry People\n",
    "Deal With Physically Aggressive People\n",
    "Indoors, Environmentally Controlled\n",
    "Indoors, Not Environmentally Controlled\n",
    "Outdoors, Exposed to Weather\n",
    "Outdoors, Under Cover\n",
    "In an Open Vehicle or Equipment\n",
    "In an Enclosed Vehicle or Equipment\n",
    "Physical Proximity\n",
    "Sounds, Noise Levels Are Distracting or Uncomfortable\n",
    "Very Hot or Cold Temperatures\n",
    "Extremely Bright or Inadequate Lighting\n",
    "Exposed to Contaminants\n",
    "Cramped Work Space, Awkward Positions\n",
    "Exposed to Whole Body Vibration\n",
    "Exposed to Radiation\n",
    "Exposed to Disease or Infections\n",
    "Exposed to High Places\n",
    "Exposed to Hazardous Conditions\n",
    "Exposed to Hazardous Equipment\n",
    "Exposed to Minor Burns, Cuts, Bites, or Stings\n",
    "Spend Time Sitting\n",
    "Spend Time Standing\n",
    "Spend Time Climbing Ladders, Scaffolds, or Poles\n",
    "Spend Time Walking and Running\n",
    "Spend Time Kneeling, Crouching, Stooping, or Crawling\n",
    "Spend Time Keeping or Regaining Balance\n",
    "Spend Time Using Your Hands to Handle, Control, or Feel Objects, Tools, or Controls\n",
    "Spend Time Bending or Twisting the Body\n",
    "Spend Time Making Repetitive Motions\n",
    "Wear Common Protective or Safety Equipment such as Safety Shoes, Glasses, Gloves, Hearing Protection, Hard Hats, or Life Jackets\n",
    "Wear Specialized Protective or Safety Equipment such as Breathing Apparatus, Safety Harness, Full Protection Suits, or Radiation Protection\n",
    "Consequence of Error\n",
    "Impact of Decisions on Co-workers or Company Results\n",
    "Frequency of Decision Making\n",
    "Freedom to Make Decisions\n",
    "Degree of Automation\n",
    "Importance of Being Exact or Accurate\n",
    "Importance of Repeating Same Tasks\n",
    "Structured versus Unstructured Work\n",
    "Level of Competition\n",
    "Time Pressure\n",
    "Pace Determined by Speed of Equipment\n",
    "Work Schedules\n",
    "Duration of Typical Work Week\n"
   ]
  },
  {
   "cell_type": "markdown",
   "metadata": {},
   "source": [
    "# Automation\n",
    "*Public Speaking\n",
    "*Telephone\n",
    "*Electronic Mail\n",
    "*Letters and Memos\n",
    "*Face-to-Face Discussions\n",
    "*Contact With Others\n",
    "*Work With Work Group or Team\n",
    "*Deal With External Customers\n",
    "*Coordinate or Lead Others\n",
    "*Responsible for Others' Health and Safety\n",
    "*Responsibility for Outcomes and Results\n",
    "*Frequency of Conflict Situations\n",
    "*Deal With Unpleasant or Angry People\n",
    "*Deal With Physically Aggressive People\n",
    "*Indoors, Environmentally Controlled\n",
    "*Indoors, Not Environmentally Controlled\n",
    "*Outdoors, Exposed to Weather\n",
    "*Outdoors, Under Cover\n",
    "*In an Open Vehicle or Equipment\n",
    "*In an Enclosed Vehicle or Equipment\n",
    "*Physical Proximity\n",
    "*Sounds, Noise Levels Are Distracting or Uncomfortable\n",
    "*Very Hot or Cold Temperatures\n",
    "*Extremely Bright or Inadequate Lighting\n",
    "*Cramped Work Space, Awkward Positions\n",
    "*Exposed to Whole Body Vibration\n",
    "*Exposed to Radiation\n",
    "*Exposed to Disease or Infections\n",
    "*Exposed to High Places\n",
    "*Exposed to Hazardous Conditions\n",
    "*Exposed to Hazardous Equipment\n",
    "*Exposed to Minor Burns, Cuts, Bites, or Stings\n",
    "*Spend Time Climbing Ladders, Scaffolds, or Poles\n",
    "*Spend Time Walking and Running\n",
    "*Spend Time Kneeling, Crouching, Stooping, or Crawling\n",
    "*Spend Time Keeping or Regaining Balance\n",
    "*Spend Time Using Your Hands to Handle, Control, or Feel Objects, Tools, or Controls\n",
    "*Spend Time Bending or Twisting the Body\n",
    "*Spend Time Making Repetitive Motions\n",
    "*Wear Common Protective or Safety Equipment such as Safety Shoes, Glasses, Gloves, Hearing Protection, Hard Hats, or Life *Jackets\n",
    "*Wear Specialized Protective or Safety Equipment such as Breathing Apparatus, Safety Harness, Full Protection Suits, or *Radiation Protection\n",
    "*Consequence of Error\n",
    "*Impact of Decisions on Co-workers or Company Results\n",
    "*Frequency of Decision Making\n",
    "*Freedom to Make Decisions\n",
    "*Degree of Automation\n",
    "*Importance of Being Exact or Accurate\n",
    "*Importance of Repeating Same Tasks\n",
    "*Structured versus Unstructured Work\n",
    "*Level of Competition\n",
    "*Time Pressure\n",
    "*Pace Determined by Speed of Equipment\n",
    "*Work Schedules\n",
    "*Duration of Typical Work Week---\n"
   ]
  },
  {
   "cell_type": "markdown",
   "metadata": {},
   "source": [
    "# Climate Change\n",
    "\n",
    "\n",
    "Indoors, Environmentally Controlled\n",
    "Indoors, Not Environmentally Controlled\n",
    "Outdoors, Exposed to Weather\n",
    "Outdoors, Under Cover\n",
    "In an Open Vehicle or Equipment\n",
    "In an Enclosed Vehicle or Equipment\n",
    "Physical Proximity\n",
    "Sounds, Noise Levels Are Distracting or Uncomfortable\n",
    "Very Hot or Cold Temperatures\n",
    "Extremely Bright or Inadequate Lighting\n",
    "Exposed to Contaminants\n",
    "Exposed to Radiation\n",
    "Exposed to Disease or Infections\n",
    "Exposed to Hazardous Conditions\n",
    "Exposed to Hazardous Equipment\n",
    "Exposed to Minor Burns, Cuts, Bites, or Stings\n",
    "Wear Common Protective or Safety Equipment such as Safety Shoes, Glasses, Gloves, Hearing Protection, Hard Hats, or Life Jackets\n",
    "Wear Specialized Protective or Safety Equipment such as Breathing Apparatus, Safety Harness, Full Protection Suits, or Radiation Protection\n",
    "Consequence of Error\n",
    "Structured versus Unstructured Work\n",
    "Level of Competition\n",
    "Time \n",
    "\n",
    " 100 - Indoors, Environmentally Controlled\n",
    "this is how vulnerable \n",
    "\n",
    "choose 2 jobs to put auto and climate change profile\n"
   ]
  },
  {
   "cell_type": "markdown",
   "metadata": {},
   "source": [
    "# Organizing What jobs\n",
    "985 different jobs\n",
    "need to define criteria and see where we have overlap"
   ]
  },
  {
   "cell_type": "markdown",
   "metadata": {},
   "source": [
    "# How to represent the data\n",
    "if doing by individual jobs - over time our 3 data points could be nice (Line Graph)\n",
    "<img src=\"linegraphex.png\" />\n",
    "if for main page we want to show all jobs may be heatmap to organize by rankings for individual criteria and or an overall score we create an equation for climate change / automation\n",
    "<img src=\"heatmap.png\" />"
   ]
  },
  {
   "cell_type": "code",
   "execution_count": 8,
   "metadata": {},
   "outputs": [
    {
     "data": {
      "text/html": [
       "<div>\n",
       "<style scoped>\n",
       "    .dataframe tbody tr th:only-of-type {\n",
       "        vertical-align: middle;\n",
       "    }\n",
       "\n",
       "    .dataframe tbody tr th {\n",
       "        vertical-align: top;\n",
       "    }\n",
       "\n",
       "    .dataframe thead th {\n",
       "        text-align: right;\n",
       "    }\n",
       "</style>\n",
       "<table border=\"1\" class=\"dataframe\">\n",
       "  <thead>\n",
       "    <tr style=\"text-align: right;\">\n",
       "      <th></th>\n",
       "      <th>Title</th>\n",
       "      <th>Description</th>\n",
       "      <th>Score</th>\n",
       "    </tr>\n",
       "  </thead>\n",
       "  <tbody>\n",
       "    <tr>\n",
       "      <th>0</th>\n",
       "      <td>Chief Executives</td>\n",
       "      <td>Public Speaking</td>\n",
       "      <td>40.635422</td>\n",
       "    </tr>\n",
       "    <tr>\n",
       "      <th>1</th>\n",
       "      <td>Chief Executives</td>\n",
       "      <td>Telephone</td>\n",
       "      <td>100.000000</td>\n",
       "    </tr>\n",
       "    <tr>\n",
       "      <th>2</th>\n",
       "      <td>Chief Executives</td>\n",
       "      <td>Electronic Mail</td>\n",
       "      <td>100.000000</td>\n",
       "    </tr>\n",
       "  </tbody>\n",
       "</table>\n",
       "</div>"
      ],
      "text/plain": [
       "              Title      Description       Score\n",
       "0  Chief Executives  Public Speaking   40.635422\n",
       "1  Chief Executives        Telephone  100.000000\n",
       "2  Chief Executives  Electronic Mail  100.000000"
      ]
     },
     "execution_count": 8,
     "metadata": {},
     "output_type": "execute_result"
    }
   ],
   "source": [
    "Jobslected[0:3]"
   ]
  },
  {
   "cell_type": "code",
   "execution_count": 9,
   "metadata": {},
   "outputs": [
    {
     "data": {
      "text/html": [
       "<div>\n",
       "<style scoped>\n",
       "    .dataframe tbody tr th:only-of-type {\n",
       "        vertical-align: middle;\n",
       "    }\n",
       "\n",
       "    .dataframe tbody tr th {\n",
       "        vertical-align: top;\n",
       "    }\n",
       "\n",
       "    .dataframe thead th {\n",
       "        text-align: right;\n",
       "    }\n",
       "</style>\n",
       "<table border=\"1\" class=\"dataframe\">\n",
       "  <thead>\n",
       "    <tr style=\"text-align: right;\">\n",
       "      <th></th>\n",
       "      <th>Title</th>\n",
       "      <th>Description</th>\n",
       "      <th>Score</th>\n",
       "    </tr>\n",
       "  </thead>\n",
       "  <tbody>\n",
       "    <tr>\n",
       "      <th>56</th>\n",
       "      <td>Chief Executives</td>\n",
       "      <td>Duration of Typical Work Week</td>\n",
       "      <td>8.335746</td>\n",
       "    </tr>\n",
       "  </tbody>\n",
       "</table>\n",
       "</div>"
      ],
      "text/plain": [
       "               Title                    Description     Score\n",
       "56  Chief Executives  Duration of Typical Work Week  8.335746"
      ]
     },
     "execution_count": 9,
     "metadata": {},
     "output_type": "execute_result"
    }
   ],
   "source": [
    "Jobslected[-1:] # prints last entry"
   ]
  },
  {
   "cell_type": "markdown",
   "metadata": {},
   "source": [
    "You might think that the code ref_surveys_df = surveys_df creates a fresh distinct copy of the surveys_df DataFrame object. However, using the = operator in the simple statement y = x does not create a copy of our DataFrame. Instead, y = x creates a new variable y that references the same object that x refers to. To state this another way, there is only one object (the DataFrame), and both x and y refer to it.\n",
    "\n",
    "In contrast, the copy() method for a DataFrame creates a true copy of the DataFrame."
   ]
  },
  {
   "cell_type": "code",
   "execution_count": 10,
   "metadata": {},
   "outputs": [],
   "source": [
    "df3=Jobslected.copy()"
   ]
  },
  {
   "cell_type": "code",
   "execution_count": 12,
   "metadata": {},
   "outputs": [
    {
     "name": "stdout",
     "output_type": "stream",
     "text": [
      "               Title                                        Description  \\\n",
      "0                  0                                                  0   \n",
      "1                  0                                                  0   \n",
      "2                  0                                                  0   \n",
      "3   Chief Executives                                  Letters and Memos   \n",
      "4   Chief Executives                           Face-to-Face Discussions   \n",
      "5   Chief Executives                                Contact With Others   \n",
      "6   Chief Executives                       Work With Work Group or Team   \n",
      "7   Chief Executives                       Deal With External Customers   \n",
      "8   Chief Executives                          Coordinate or Lead Others   \n",
      "9   Chief Executives          Responsible for Others' Health and Safety   \n",
      "10  Chief Executives            Responsibility for Outcomes and Results   \n",
      "11  Chief Executives                   Frequency of Conflict Situations   \n",
      "12  Chief Executives               Deal With Unpleasant or Angry People   \n",
      "13  Chief Executives             Deal With Physically Aggressive People   \n",
      "14  Chief Executives                Indoors, Environmentally Controlled   \n",
      "15  Chief Executives            Indoors, Not Environmentally Controlled   \n",
      "16  Chief Executives                       Outdoors, Exposed to Weather   \n",
      "17  Chief Executives                              Outdoors, Under Cover   \n",
      "18  Chief Executives                    In an Open Vehicle or Equipment   \n",
      "19  Chief Executives                In an Enclosed Vehicle or Equipment   \n",
      "20  Chief Executives                                 Physical Proximity   \n",
      "21  Chief Executives  Sounds, Noise Levels Are Distracting or Uncomf...   \n",
      "22  Chief Executives                      Very Hot or Cold Temperatures   \n",
      "23  Chief Executives            Extremely Bright or Inadequate Lighting   \n",
      "24  Chief Executives                            Exposed to Contaminants   \n",
      "25  Chief Executives              Cramped Work Space, Awkward Positions   \n",
      "26  Chief Executives                    Exposed to Whole Body Vibration   \n",
      "27  Chief Executives                               Exposed to Radiation   \n",
      "28  Chief Executives                   Exposed to Disease or Infections   \n",
      "29  Chief Executives                             Exposed to High Places   \n",
      "30  Chief Executives                    Exposed to Hazardous Conditions   \n",
      "31  Chief Executives                     Exposed to Hazardous Equipment   \n",
      "32  Chief Executives     Exposed to Minor Burns, Cuts, Bites, or Stings   \n",
      "33  Chief Executives                                 Spend Time Sitting   \n",
      "34  Chief Executives                                Spend Time Standing   \n",
      "35  Chief Executives   Spend Time Climbing Ladders, Scaffolds, or Poles   \n",
      "36  Chief Executives                     Spend Time Walking and Running   \n",
      "37  Chief Executives  Spend Time Kneeling, Crouching, Stooping, or C...   \n",
      "38  Chief Executives            Spend Time Keeping or Regaining Balance   \n",
      "39  Chief Executives  Spend Time Using Your Hands to Handle, Control...   \n",
      "40  Chief Executives            Spend Time Bending or Twisting the Body   \n",
      "41  Chief Executives               Spend Time Making Repetitive Motions   \n",
      "42  Chief Executives  Wear Common Protective or Safety Equipment suc...   \n",
      "43  Chief Executives  Wear Specialized Protective or Safety Equipmen...   \n",
      "44  Chief Executives                               Consequence of Error   \n",
      "45  Chief Executives  Impact of Decisions on Co-workers or Company R...   \n",
      "46  Chief Executives                       Frequency of Decision Making   \n",
      "47  Chief Executives                          Freedom to Make Decisions   \n",
      "48  Chief Executives                               Degree of Automation   \n",
      "49  Chief Executives              Importance of Being Exact or Accurate   \n",
      "50  Chief Executives                 Importance of Repeating Same Tasks   \n",
      "51  Chief Executives                Structured versus Unstructured Work   \n",
      "52  Chief Executives                               Level of Competition   \n",
      "53  Chief Executives                                      Time Pressure   \n",
      "54  Chief Executives              Pace Determined by Speed of Equipment   \n",
      "55  Chief Executives                                     Work Schedules   \n",
      "56  Chief Executives                      Duration of Typical Work Week   \n",
      "\n",
      "        Score  \n",
      "0    0.000000  \n",
      "1    0.000000  \n",
      "2    0.000000  \n",
      "3   71.807619  \n",
      "4   99.208000  \n",
      "5   91.719810  \n",
      "6   89.508000  \n",
      "7   71.705143  \n",
      "8   87.106952  \n",
      "9   55.323665  \n",
      "10  79.735958  \n",
      "11  62.762835  \n",
      "12  42.943155  \n",
      "13   7.481300  \n",
      "14  96.568857  \n",
      "15  20.255630  \n",
      "16  18.805116  \n",
      "17   8.251819  \n",
      "18   9.951274  \n",
      "19  36.658243  \n",
      "20  26.456725  \n",
      "21  33.371815  \n",
      "22  19.875460  \n",
      "23  15.146490  \n",
      "24  19.566442  \n",
      "25   4.819422  \n",
      "26  13.664000  \n",
      "27   0.251464  \n",
      "28   6.490927  \n",
      "29   8.487858  \n",
      "30  10.115990  \n",
      "31  20.981079  \n",
      "32   6.397366  \n",
      "33  50.086286  \n",
      "34   7.146519  \n",
      "35   1.063244  \n",
      "36   5.585291  \n",
      "37   2.246159  \n",
      "38   1.858450  \n",
      "39   9.957147  \n",
      "40   2.691877  \n",
      "41  14.391854  \n",
      "42  16.042269  \n",
      "43   6.222549  \n",
      "44  50.658108  \n",
      "45  94.584000  \n",
      "46  96.009810  \n",
      "47  96.475810  \n",
      "48  24.847245  \n",
      "49  64.548667  \n",
      "50  40.600240  \n",
      "51  99.216000  \n",
      "52  66.801333  \n",
      "53  65.948952  \n",
      "54   8.335746  \n",
      "55   8.335746  \n",
      "56   8.335746  \n"
     ]
    }
   ],
   "source": [
    "df3[0:3]=0\n",
    "print(df3)"
   ]
  },
  {
   "cell_type": "code",
   "execution_count": 13,
   "metadata": {},
   "outputs": [],
   "source": [
    "from mpl_toolkits import mplot3d"
   ]
  },
  {
   "cell_type": "code",
   "execution_count": 14,
   "metadata": {},
   "outputs": [],
   "source": [
    "%matplotlib inline\n",
    "import numpy as np\n",
    "import matplotlib.pyplot as plt"
   ]
  },
  {
   "cell_type": "code",
   "execution_count": 15,
   "metadata": {},
   "outputs": [
    {
     "data": {
      "image/png": "[encoded data removed]",
      "text/plain": [
       "<Figure size 432x288 with 1 Axes>"
      ]
     },
     "metadata": {
      "needs_background": "light"
     },
     "output_type": "display_data"
    }
   ],
   "source": [
    "fig = plt.figure()\n",
    "ax = plt.axes(projection='3d')"
   ]
  },
  {
   "cell_type": "code",
   "execution_count": 16,
   "metadata": {},
   "outputs": [
    {
     "data": {
      "image/png": "[encoded data removed]",
      "text/plain": [
       "<Figure size 432x288 with 1 Axes>"
      ]
     },
     "metadata": {
      "needs_background": "light"
     },
     "output_type": "display_data"
    }
   ],
   "source": [
    "ax = plt.axes(projection='3d')\n",
    "\n",
    "# Data for a three-dimensional line\n",
    "zline = np.linspace(0, 15, 1000)\n",
    "xline = np.sin(zline)\n",
    "yline = np.cos(zline)\n",
    "ax.plot3D(xline, yline, zline, 'gray')\n",
    "\n",
    "# Data for three-dimensional scattered points\n",
    "zdata = 15 * np.random.random(100)\n",
    "xdata = np.sin(zdata) + 0.1 * np.random.randn(100)\n",
    "ydata = np.cos(zdata) + 0.1 * np.random.randn(100)\n",
    "ax.scatter3D(xdata, ydata, zdata, c=zdata, cmap='Greens');"
   ]
  },
  {
   "cell_type": "code",
   "execution_count": 19,
   "metadata": {},
   "outputs": [
    {
     "ename": "IndexError",
     "evalue": "tuple index out of range",
     "output_type": "error",
     "traceback": [
      "\u001b[1;31m---------------------------------------------------------------------------\u001b[0m",
      "\u001b[1;31mIndexError\u001b[0m                                Traceback (most recent call last)",
      "\u001b[1;32m<ipython-input-19-54ab527858fb>\u001b[0m in \u001b[0;36m<module>\u001b[1;34m\u001b[0m\n\u001b[0;32m      6\u001b[0m \u001b[0mxdata\u001b[0m \u001b[1;33m=\u001b[0m \u001b[1;36m.1\u001b[0m\u001b[1;33m\u001b[0m\u001b[1;33m\u001b[0m\u001b[0m\n\u001b[0;32m      7\u001b[0m \u001b[0mydata\u001b[0m \u001b[1;33m=\u001b[0m \u001b[1;36m.1\u001b[0m\u001b[1;33m\u001b[0m\u001b[1;33m\u001b[0m\u001b[0m\n\u001b[1;32m----> 8\u001b[1;33m \u001b[0max\u001b[0m\u001b[1;33m.\u001b[0m\u001b[0mscatter3D\u001b[0m\u001b[1;33m(\u001b[0m\u001b[0mxdata\u001b[0m\u001b[1;33m,\u001b[0m \u001b[0mydata\u001b[0m\u001b[1;33m,\u001b[0m \u001b[0mzdata\u001b[0m\u001b[1;33m,\u001b[0m \u001b[0mc\u001b[0m\u001b[1;33m=\u001b[0m\u001b[0mzdata\u001b[0m\u001b[1;33m,\u001b[0m \u001b[0mcmap\u001b[0m\u001b[1;33m=\u001b[0m\u001b[1;34m'Greens'\u001b[0m\u001b[1;33m)\u001b[0m\u001b[1;33m;\u001b[0m\u001b[1;33m\u001b[0m\u001b[1;33m\u001b[0m\u001b[0m\n\u001b[0m",
      "\u001b[1;32m~\\Documents\\anaconda3\\lib\\site-packages\\mpl_toolkits\\mplot3d\\axes3d.py\u001b[0m in \u001b[0;36mscatter\u001b[1;34m(self, xs, ys, zs, zdir, s, c, depthshade, *args, **kwargs)\u001b[0m\n\u001b[0;32m   2325\u001b[0m         \u001b[0mxs\u001b[0m\u001b[1;33m,\u001b[0m \u001b[0mys\u001b[0m\u001b[1;33m,\u001b[0m \u001b[0mzs\u001b[0m\u001b[1;33m,\u001b[0m \u001b[0ms\u001b[0m\u001b[1;33m,\u001b[0m \u001b[0mc\u001b[0m \u001b[1;33m=\u001b[0m \u001b[0mcbook\u001b[0m\u001b[1;33m.\u001b[0m\u001b[0mdelete_masked_points\u001b[0m\u001b[1;33m(\u001b[0m\u001b[0mxs\u001b[0m\u001b[1;33m,\u001b[0m \u001b[0mys\u001b[0m\u001b[1;33m,\u001b[0m \u001b[0mzs\u001b[0m\u001b[1;33m,\u001b[0m \u001b[0ms\u001b[0m\u001b[1;33m,\u001b[0m \u001b[0mc\u001b[0m\u001b[1;33m)\u001b[0m\u001b[1;33m\u001b[0m\u001b[1;33m\u001b[0m\u001b[0m\n\u001b[0;32m   2326\u001b[0m \u001b[1;33m\u001b[0m\u001b[0m\n\u001b[1;32m-> 2327\u001b[1;33m         \u001b[0mpatches\u001b[0m \u001b[1;33m=\u001b[0m \u001b[0msuper\u001b[0m\u001b[1;33m(\u001b[0m\u001b[1;33m)\u001b[0m\u001b[1;33m.\u001b[0m\u001b[0mscatter\u001b[0m\u001b[1;33m(\u001b[0m\u001b[0mxs\u001b[0m\u001b[1;33m,\u001b[0m \u001b[0mys\u001b[0m\u001b[1;33m,\u001b[0m \u001b[0ms\u001b[0m\u001b[1;33m=\u001b[0m\u001b[0ms\u001b[0m\u001b[1;33m,\u001b[0m \u001b[0mc\u001b[0m\u001b[1;33m=\u001b[0m\u001b[0mc\u001b[0m\u001b[1;33m,\u001b[0m \u001b[1;33m*\u001b[0m\u001b[0margs\u001b[0m\u001b[1;33m,\u001b[0m \u001b[1;33m**\u001b[0m\u001b[0mkwargs\u001b[0m\u001b[1;33m)\u001b[0m\u001b[1;33m\u001b[0m\u001b[1;33m\u001b[0m\u001b[0m\n\u001b[0m\u001b[0;32m   2328\u001b[0m         art3d.patch_collection_2d_to_3d(patches, zs=zs, zdir=zdir,\n\u001b[0;32m   2329\u001b[0m                                         depthshade=depthshade)\n",
      "\u001b[1;32m~\\Documents\\anaconda3\\lib\\site-packages\\matplotlib\\__init__.py\u001b[0m in \u001b[0;36minner\u001b[1;34m(ax, data, *args, **kwargs)\u001b[0m\n\u001b[0;32m   1597\u001b[0m     \u001b[1;32mdef\u001b[0m \u001b[0minner\u001b[0m\u001b[1;33m(\u001b[0m\u001b[0max\u001b[0m\u001b[1;33m,\u001b[0m \u001b[1;33m*\u001b[0m\u001b[0margs\u001b[0m\u001b[1;33m,\u001b[0m \u001b[0mdata\u001b[0m\u001b[1;33m=\u001b[0m\u001b[1;32mNone\u001b[0m\u001b[1;33m,\u001b[0m \u001b[1;33m**\u001b[0m\u001b[0mkwargs\u001b[0m\u001b[1;33m)\u001b[0m\u001b[1;33m:\u001b[0m\u001b[1;33m\u001b[0m\u001b[1;33m\u001b[0m\u001b[0m\n\u001b[0;32m   1598\u001b[0m         \u001b[1;32mif\u001b[0m \u001b[0mdata\u001b[0m \u001b[1;32mis\u001b[0m \u001b[1;32mNone\u001b[0m\u001b[1;33m:\u001b[0m\u001b[1;33m\u001b[0m\u001b[1;33m\u001b[0m\u001b[0m\n\u001b[1;32m-> 1599\u001b[1;33m             \u001b[1;32mreturn\u001b[0m \u001b[0mfunc\u001b[0m\u001b[1;33m(\u001b[0m\u001b[0max\u001b[0m\u001b[1;33m,\u001b[0m \u001b[1;33m*\u001b[0m\u001b[0mmap\u001b[0m\u001b[1;33m(\u001b[0m\u001b[0msanitize_sequence\u001b[0m\u001b[1;33m,\u001b[0m \u001b[0margs\u001b[0m\u001b[1;33m)\u001b[0m\u001b[1;33m,\u001b[0m \u001b[1;33m**\u001b[0m\u001b[0mkwargs\u001b[0m\u001b[1;33m)\u001b[0m\u001b[1;33m\u001b[0m\u001b[1;33m\u001b[0m\u001b[0m\n\u001b[0m\u001b[0;32m   1600\u001b[0m \u001b[1;33m\u001b[0m\u001b[0m\n\u001b[0;32m   1601\u001b[0m         \u001b[0mbound\u001b[0m \u001b[1;33m=\u001b[0m \u001b[0mnew_sig\u001b[0m\u001b[1;33m.\u001b[0m\u001b[0mbind\u001b[0m\u001b[1;33m(\u001b[0m\u001b[0max\u001b[0m\u001b[1;33m,\u001b[0m \u001b[1;33m*\u001b[0m\u001b[0margs\u001b[0m\u001b[1;33m,\u001b[0m \u001b[1;33m**\u001b[0m\u001b[0mkwargs\u001b[0m\u001b[1;33m)\u001b[0m\u001b[1;33m\u001b[0m\u001b[1;33m\u001b[0m\u001b[0m\n",
      "\u001b[1;32m~\\Documents\\anaconda3\\lib\\site-packages\\matplotlib\\axes\\_axes.py\u001b[0m in \u001b[0;36mscatter\u001b[1;34m(self, x, y, s, c, marker, cmap, norm, vmin, vmax, alpha, linewidths, verts, edgecolors, plotnonfinite, **kwargs)\u001b[0m\n\u001b[0;32m   4451\u001b[0m             self._parse_scatter_color_args(\n\u001b[0;32m   4452\u001b[0m                 \u001b[0mc\u001b[0m\u001b[1;33m,\u001b[0m \u001b[0medgecolors\u001b[0m\u001b[1;33m,\u001b[0m \u001b[0mkwargs\u001b[0m\u001b[1;33m,\u001b[0m \u001b[0mxshape\u001b[0m\u001b[1;33m,\u001b[0m \u001b[0myshape\u001b[0m\u001b[1;33m,\u001b[0m\u001b[1;33m\u001b[0m\u001b[1;33m\u001b[0m\u001b[0m\n\u001b[1;32m-> 4453\u001b[1;33m                 get_next_color_func=self._get_patches_for_fill.get_next_color)\n\u001b[0m\u001b[0;32m   4454\u001b[0m \u001b[1;33m\u001b[0m\u001b[0m\n\u001b[0;32m   4455\u001b[0m         \u001b[1;32mif\u001b[0m \u001b[0mplotnonfinite\u001b[0m \u001b[1;32mand\u001b[0m \u001b[0mcolors\u001b[0m \u001b[1;32mis\u001b[0m \u001b[1;32mNone\u001b[0m\u001b[1;33m:\u001b[0m\u001b[1;33m\u001b[0m\u001b[1;33m\u001b[0m\u001b[0m\n",
      "\u001b[1;32m~\\Documents\\anaconda3\\lib\\site-packages\\matplotlib\\axes\\_axes.py\u001b[0m in \u001b[0;36m_parse_scatter_color_args\u001b[1;34m(c, edgecolors, kwargs, xshape, yshape, get_next_color_func)\u001b[0m\n\u001b[0;32m   4262\u001b[0m             \u001b[1;32mtry\u001b[0m\u001b[1;33m:\u001b[0m  \u001b[1;31m# First, does 'c' look suitable for value-mapping?\u001b[0m\u001b[1;33m\u001b[0m\u001b[1;33m\u001b[0m\u001b[0m\n\u001b[0;32m   4263\u001b[0m                 \u001b[0mc_array\u001b[0m \u001b[1;33m=\u001b[0m \u001b[0mnp\u001b[0m\u001b[1;33m.\u001b[0m\u001b[0masanyarray\u001b[0m\u001b[1;33m(\u001b[0m\u001b[0mc\u001b[0m\u001b[1;33m,\u001b[0m \u001b[0mdtype\u001b[0m\u001b[1;33m=\u001b[0m\u001b[0mfloat\u001b[0m\u001b[1;33m)\u001b[0m\u001b[1;33m\u001b[0m\u001b[1;33m\u001b[0m\u001b[0m\n\u001b[1;32m-> 4264\u001b[1;33m                 \u001b[0mn_elem\u001b[0m \u001b[1;33m=\u001b[0m \u001b[0mc_array\u001b[0m\u001b[1;33m.\u001b[0m\u001b[0mshape\u001b[0m\u001b[1;33m[\u001b[0m\u001b[1;36m0\u001b[0m\u001b[1;33m]\u001b[0m\u001b[1;33m\u001b[0m\u001b[1;33m\u001b[0m\u001b[0m\n\u001b[0m\u001b[0;32m   4265\u001b[0m                 \u001b[1;32mif\u001b[0m \u001b[0mc_array\u001b[0m\u001b[1;33m.\u001b[0m\u001b[0mshape\u001b[0m \u001b[1;32min\u001b[0m \u001b[1;33m[\u001b[0m\u001b[0mxshape\u001b[0m\u001b[1;33m,\u001b[0m \u001b[0myshape\u001b[0m\u001b[1;33m]\u001b[0m\u001b[1;33m:\u001b[0m\u001b[1;33m\u001b[0m\u001b[1;33m\u001b[0m\u001b[0m\n\u001b[0;32m   4266\u001b[0m                     \u001b[0mc\u001b[0m \u001b[1;33m=\u001b[0m \u001b[0mnp\u001b[0m\u001b[1;33m.\u001b[0m\u001b[0mma\u001b[0m\u001b[1;33m.\u001b[0m\u001b[0mravel\u001b[0m\u001b[1;33m(\u001b[0m\u001b[0mc_array\u001b[0m\u001b[1;33m)\u001b[0m\u001b[1;33m\u001b[0m\u001b[1;33m\u001b[0m\u001b[0m\n",
      "\u001b[1;31mIndexError\u001b[0m: tuple index out of range"
     ]
    },
    {
     "data": {
      "image/png": "[encoded data removed]",
      "text/plain": [
       "<Figure size 432x288 with 1 Axes>"
      ]
     },
     "metadata": {
      "needs_background": "light"
     },
     "output_type": "display_data"
    }
   ],
   "source": [
    "ax = plt.axes(projection='3d')\n",
    "\n",
    "\n",
    "# Data for three-dimensional scattered points\n",
    "zdata = 15\n",
    "xdata = .1\n",
    "ydata = .1\n",
    "ax.scatter3D(xdata, ydata, zdata, c=zdata, cmap='Greens');"
   ]
  },
  {
   "cell_type": "code",
   "execution_count": null,
   "metadata": {},
   "outputs": [],
   "source": []
  }
 ],
 "metadata": {
  "kernelspec": {
   "display_name": "Python 3",
   "language": "python",
   "name": "python3"
  },
  "language_info": {
   "codemirror_mode": {
    "name": "ipython",
    "version": 3
   },
   "file_extension": ".py",
   "mimetype": "text/x-python",
   "name": "python",
   "nbconvert_exporter": "python",
   "pygments_lexer": "ipython3",
   "version": "3.7.6"
  }
 },
 "nbformat": 4,
 "nbformat_minor": 4
}
